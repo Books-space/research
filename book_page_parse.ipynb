{
 "cells": [
  {
   "cell_type": "code",
   "execution_count": 65,
   "source": [
    "from bs4 import BeautifulSoup\n",
    "import requests\n",
    "import json"
   ],
   "outputs": [],
   "metadata": {}
  },
  {
   "cell_type": "code",
   "execution_count": 79,
   "source": [
    "source = requests.get('http://webcache.googleusercontent.com/search?q=cache:https://www.labirint.ru/books/812392/').text"
   ],
   "outputs": [],
   "metadata": {}
  },
  {
   "cell_type": "code",
   "execution_count": 80,
   "source": [
    "source = BeautifulSoup(source, 'lxml')"
   ],
   "outputs": [],
   "metadata": {}
  },
  {
   "cell_type": "code",
   "execution_count": 81,
   "source": [
    "book_specs = source.find('div', 'product-description')\n",
    "book_specs"
   ],
   "outputs": [
    {
     "output_type": "execute_result",
     "data": {
      "text/plain": [
       "<div class=\"product-description\">\n",
       "<div class=\"authors\">Автор: <a class=\"analytics-click-js\" data-event-content=\"Монах Арсений (Святогорский)\" data-event-label=\"author\" data-event-type=\"225\" href=\"/authors/179515/\">Монах Арсений (Святогорский)</a></div><div class=\"publisher\">Издательство: <a class=\"analytics-click-js\" data-event-content=\"Сибирская  Благозвонница\" data-event-label=\"publisher\" data-event-type=\"228\" href=\"/pubhouse/1713/\">Сибирская  Благозвонница</a>, 2021 г.</div><div class=\"buying\">\n",
       "<div class=\"buying-priceold\">\n",
       "<div class=\"buying-priceold-text\">Цена для всех</div>\n",
       "<div class=\"buying-priceold-val\"><span class=\"buying-priceold-val-number\">72</span></div>\n",
       "</div>\n",
       "<div class=\"buying-pricenew\" title=' Цена с учетом скидки по акции \"Читатель и премии. Скидки на книги\" (20%)'>\n",
       "<div class=\"buying-pricenew-text\">Ваша цена (-20%)</div>\n",
       "<div class=\"buying-pricenew-val\">\n",
       "<span class=\"buying-pricenew-val-number\">58</span>\n",
       "<span class=\"buying-pricenew-val-currency\">р.</span>\n",
       "</div>\n",
       "</div>\n",
       "<div class=\"cleaner0\"></div>\n",
       "<div class=\"buying-btns\" id=\"buyingbtns812392\">\n",
       "<a class=\"btn btn-small btn-primary btn-buy\" data-idtov=\"812392\" data-pluscount=\"1\" href=\"#\" onclick=\"shoping(812392,0); return false;\"><span class=\"text\">Добавить <span>в корзину</span></span></a>\n",
       "<div class=\"product-icons\">\n",
       "<a class=\"fave\" data-html=\"Книга в отложенных\" data-idtov=\"812392\" href=\"#\" onclick=\"return putbook(812392);\" rel=\"nofollow\" title=\"Добавить в отложенные и отслеживать появление в продаже\">\n",
       "<span>Добавить в отложенные</span>\n",
       "</a>\n",
       "<a class=\"compare big-compare\" data-html=\"Сравнить\" data-idtov=\"812392\" data-sgenre=\"-1\" href=\"#\" onclick=\"return comparethis(this);\" rel=\"nofollow\" title=\"Добавить к сравнению\">\n",
       "<span>+ к сравнению</span>\n",
       "</a>\n",
       "</div>\n",
       "<div class=\"cleaner0\"></div>\n",
       "</div>\n",
       "</div><div class=\"articul\">ID товара: 812392</div><div class=\"isbn\">ISBN: 978-5-00127-244-1</div><div class=\"pages2\">Страниц: 32 (Газетная)</div><div class=\"oform\"><span class=\"self analytics-click-js\" data-event-type=\"233\" data-id=\"812392\" id=\"oformshow\">Оформление</span></div><div class=\"weight\">Масса: 16 г</div><div class=\"dimensions\">Размеры: 165x106x1 мм</div>\n",
       "</div>"
      ]
     },
     "metadata": {},
     "execution_count": 81
    }
   ],
   "metadata": {}
  },
  {
   "cell_type": "code",
   "execution_count": 82,
   "source": [
    "authors_div = book_specs.find('div', 'authors')\n",
    "\n",
    "if authors_div:\n",
    "    print(authors_div.a.text)"
   ],
   "outputs": [
    {
     "output_type": "stream",
     "name": "stdout",
     "text": [
      "Монах Арсений (Святогорский)\n"
     ]
    }
   ],
   "metadata": {}
  },
  {
   "cell_type": "code",
   "execution_count": 83,
   "source": [
    "publisher_div = book_specs.find('div', 'publisher')\n",
    "print(publisher_div.prettify())"
   ],
   "outputs": [
    {
     "output_type": "stream",
     "name": "stdout",
     "text": [
      "<div class=\"publisher\">\n",
      " Издательство:\n",
      " <a class=\"analytics-click-js\" data-event-content=\"Сибирская  Благозвонница\" data-event-label=\"publisher\" data-event-type=\"228\" href=\"/pubhouse/1713/\">\n",
      "  Сибирская  Благозвонница\n",
      " </a>\n",
      " , 2021 г.\n",
      "</div>\n",
      "\n"
     ]
    }
   ],
   "metadata": {}
  },
  {
   "cell_type": "code",
   "execution_count": 84,
   "source": [
    "year_str = publisher_div.text.split()[-2]\n",
    "print(year_str)"
   ],
   "outputs": [
    {
     "output_type": "stream",
     "name": "stdout",
     "text": [
      "2021\n"
     ]
    }
   ],
   "metadata": {}
  },
  {
   "cell_type": "code",
   "execution_count": 85,
   "source": [
    "publisher = publisher_div.a.text\n",
    "print(publisher)"
   ],
   "outputs": [
    {
     "output_type": "stream",
     "name": "stdout",
     "text": [
      "Сибирская  Благозвонница\n"
     ]
    }
   ],
   "metadata": {}
  },
  {
   "cell_type": "code",
   "execution_count": 88,
   "source": [
    "isbn_div = book_specs.find('div', 'isbn')\n",
    "print(isbn_div)\n",
    "if isbn_div is not None:\n",
    "    isbn = isbn_div.text\n",
    "    print(isbn)\n",
    "else:\n",
    "    inbn = '-'"
   ],
   "outputs": [
    {
     "output_type": "stream",
     "name": "stdout",
     "text": [
      "<div class=\"isbn\">ISBN: 978-5-00127-244-1</div>\n",
      "ISBN: 978-5-00127-244-1\n"
     ]
    }
   ],
   "metadata": {}
  },
  {
   "cell_type": "code",
   "execution_count": 61,
   "source": [
    "'''\n",
    "thumbnails_div = source.find('div', id='product-thumbnails')\n",
    "image_sources = thumbnails_div.find('div', id='product-screenshot')['data-source']\n",
    "print(image_sources)\n",
    "img_dict_list = json.loads(image_sources)\n",
    "image_url = img_dict_list[0]['full']\n",
    "image_url\n",
    "'''"
   ],
   "outputs": [
    {
     "output_type": "stream",
     "name": "stdout",
     "text": [
      "[{\"full\":\"https:\\/\\/img2.labirint.ru\\/rcimg\\/8f50d3406df3645000113aff9498a5d5\\/1920x1080\\/books82\\/812390\\/ph_001.jpg?1625635704\",\"img\":\"https:\\/\\/img2.labirint.ru\\/rcimg\\/819b138cfe0b9c67293aeb0fd653a640\\/960x540\\/books82\\/812390\\/ph_001.jpg?1625635704\",\"thumb\":\"https:\\/\\/img2.labirint.ru\\/rcimg\\/b55426d5f71bd1a4de08fd68696df5cf\\/320x180\\/books82\\/812390\\/ph_001.jpg?1625635704\"},{\"video\":\"https:\\/\\/youtu.be\\/Lx9nWxBQWT0\",\"img\":\"https:\\/\\/img.youtube.com\\/vi\\/Lx9nWxBQWT0\\/maxresdefault.jpg\",\"thumb\":\"https:\\/\\/img.youtube.com\\/vi\\/Lx9nWxBQWT0\\/mqdefault.jpg\"},{\"full\":\"https:\\/\\/img2.labirint.ru\\/rcimg\\/3811af1b1f78145afd9ca981754863bb\\/1920x1080\\/books82\\/812390\\/ph_002.jpg?1625635704\",\"img\":\"https:\\/\\/img2.labirint.ru\\/rcimg\\/db72f91021da67943e61364936a4a829\\/960x540\\/books82\\/812390\\/ph_002.jpg?1625635704\",\"thumb\":\"https:\\/\\/img2.labirint.ru\\/rcimg\\/7fe37b37ea3768582ddb1a41f1aba9cd\\/320x180\\/books82\\/812390\\/ph_002.jpg?1625635704\"}]\n"
     ]
    },
    {
     "output_type": "execute_result",
     "data": {
      "text/plain": [
       "'https://img2.labirint.ru/rcimg/8f50d3406df3645000113aff9498a5d5/1920x1080/books82/812390/ph_001.jpg?1625635704'"
      ]
     },
     "metadata": {},
     "execution_count": 61
    }
   ],
   "metadata": {}
  },
  {
   "cell_type": "code",
   "execution_count": 64,
   "source": [
    "image_div = source.find('div', id='product-image')\n",
    "image_url = image_div.img['data-src']"
   ],
   "outputs": [
    {
     "output_type": "execute_result",
     "data": {
      "text/plain": [
       "'https://img4.labirint.ru/rc/47401adde08e6fc7491da3e32cf7b27d/220x340/books82/812390/cover.jpg?1625635704'"
      ]
     },
     "metadata": {},
     "execution_count": 64
    }
   ],
   "metadata": {}
  }
 ],
 "metadata": {
  "orig_nbformat": 4,
  "language_info": {
   "name": "python",
   "version": "3.9.7",
   "mimetype": "text/x-python",
   "codemirror_mode": {
    "name": "ipython",
    "version": 3
   },
   "pygments_lexer": "ipython3",
   "nbconvert_exporter": "python",
   "file_extension": ".py"
  },
  "kernelspec": {
   "name": "python3",
   "display_name": "Python 3.9.7 64-bit ('.venv': poetry)"
  },
  "interpreter": {
   "hash": "aca80b556c206deea64c9e513a653cc8eb21000071ab18f5a3cb96f1a29e1172"
  }
 },
 "nbformat": 4,
 "nbformat_minor": 2
}